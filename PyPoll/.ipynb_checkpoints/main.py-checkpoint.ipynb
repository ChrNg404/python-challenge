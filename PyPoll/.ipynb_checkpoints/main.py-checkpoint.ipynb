{
 "cells": [
  {
   "cell_type": "code",
   "execution_count": 17,
   "metadata": {},
   "outputs": [],
   "source": [
    "#Let's start by importing Pandas\n",
    "import pandas as pd\n",
    "import csv"
   ]
  },
  {
   "cell_type": "code",
   "execution_count": 18,
   "metadata": {},
   "outputs": [],
   "source": [
    "#Next, we set the path:\n",
    "voting_data = \"Resources/election_data.csv\"\n",
    "#Now we just have to read the file\n",
    "voting_data_pd= pd.read_csv(voting_data)"
   ]
  },
  {
   "cell_type": "code",
   "execution_count": 19,
   "metadata": {
    "scrolled": true
   },
   "outputs": [
    {
     "name": "stdout",
     "output_type": "stream",
     "text": [
      "   Voter ID County Candidate\n",
      "0  12864552  Marsh      Khan\n",
      "1  17444633  Marsh    Correy\n",
      "2  19330107  Marsh      Khan\n",
      "3  19865775  Queen      Khan\n",
      "4  11927875  Marsh      Khan\n"
     ]
    }
   ],
   "source": [
    "#Now call the header of the data file to make sure we have the right one\n",
    "\n",
    "print(voting_data_pd.head())"
   ]
  },
  {
   "cell_type": "code",
   "execution_count": 20,
   "metadata": {},
   "outputs": [
    {
     "name": "stdout",
     "output_type": "stream",
     "text": [
      "Total Number of votes: 3521001\n"
     ]
    }
   ],
   "source": [
    "#Let's move on to the assignment:\n",
    "# -The total number of votes cast\n",
    "#We'll find this by finding the length of the data since each data point is a vote\n",
    "TotalVotes = len(voting_data_pd)\n",
    "print (\"Total Number of votes: \"+ str(TotalVotes))"
   ]
  },
  {
   "cell_type": "code",
   "execution_count": 21,
   "metadata": {},
   "outputs": [
    {
     "name": "stdout",
     "output_type": "stream",
     "text": [
      "['Candidate: Khan' 'Candidate: Correy' 'Candidate: Li'\n",
      " \"Candidate: O'Tooley\"]\n"
     ]
    }
   ],
   "source": [
    "# -A complete list of candidates who received votes\n",
    "# I think we can solve this just by using the unique function. \n",
    "#It should show each unique candidate who received votes\n",
    "\n",
    "uniqueCandidates = voting_data_pd[\"Candidate\"].unique()\n",
    "print(\"Candidate: \" + uniqueCandidates)"
   ]
  },
  {
   "cell_type": "code",
   "execution_count": 22,
   "metadata": {},
   "outputs": [
    {
     "name": "stdout",
     "output_type": "stream",
     "text": [
      "The total count is: Khan        2218231\n",
      "Correy       704200\n",
      "Li           492940\n",
      "O'Tooley     105630\n",
      "Name: Candidate, dtype: int64\n"
     ]
    }
   ],
   "source": [
    "# -The total number of votes each candidate won\n",
    "# We'll just use the count function to get the total number of votes\n",
    "Totalcount = voting_data_pd[\"Candidate\"].value_counts()\n",
    "print(\"The total count is: \" + str(Totalcount))\n"
   ]
  },
  {
   "cell_type": "code",
   "execution_count": 35,
   "metadata": {},
   "outputs": [
    {
     "name": "stdout",
     "output_type": "stream",
     "text": [
      "105630\n",
      "2218231\n"
     ]
    }
   ],
   "source": [
    "# -The percentage of votes each candidate won\n",
    "\n",
    "#There are two ways I've figured how to do this.\n",
    "#The first way is to get the individual count of each candidate\n",
    "Khancount = voting_data_pd['Candidate'].tolist().count(\"Khan\")\n",
    "Correycount = voting_data_pd['Candidate'].tolist().count(\"Correy\")\n",
    "Licount = voting_data_pd['Candidate'].tolist().count(\"Li\")\n",
    "OTooleycount = voting_data_pd['Candidate'].tolist().count(\"O'Tooley\")\n",
    "\n",
    "#let's test to make sure we're getting the individual counts\n",
    "print(OTooleycount)\n",
    "\n",
    "print(Khancount)"
   ]
  },
  {
   "cell_type": "code",
   "execution_count": 25,
   "metadata": {},
   "outputs": [
    {
     "name": "stdout",
     "output_type": "stream",
     "text": [
      "Khan percent of votes: 63.00001050837532 %\n",
      "Correy percent of votes: 19.999994319797125 %\n",
      "Li percent of votes: 13.999996023857989 %\n",
      "O'Tooley percent of votes: 2.999999147969569 %\n"
     ]
    }
   ],
   "source": [
    "# Then we define a function to help us get the percent\n",
    "# To get percentage let's take the 'count' and divide by the 'total'\n",
    "\n",
    "def percent(part,whole):\n",
    "    return 100 * int(part)/int(whole)\n",
    "Khanpercent = percent(Khancount, TotalVotes)\n",
    "print(\"Khan percent of votes: \" + str(Khanpercent)+\" %\")\n",
    "Correypercent = percent(Correycount, TotalVotes)\n",
    "print(\"Correy percent of votes: \"+ str(Correypercent)+\" %\")\n",
    "Lipercent = percent(Licount, TotalVotes)\n",
    "print(\"Li percent of votes: \" + str(Lipercent)+\" %\")\n",
    "OTooleypercent = percent(OTooleycount, TotalVotes)\n",
    "print(\"O'Tooley percent of votes: \" + str(OTooleypercent)+\" %\")"
   ]
  },
  {
   "cell_type": "code",
   "execution_count": 26,
   "metadata": {},
   "outputs": [
    {
     "data": {
      "text/plain": [
       "Khan        63.000011\n",
       "Correy      19.999994\n",
       "Li          13.999996\n",
       "O'Tooley     2.999999\n",
       "Name: Candidate, dtype: float64"
      ]
     },
     "execution_count": 26,
     "metadata": {},
     "output_type": "execute_result"
    }
   ],
   "source": [
    "#Alternative method for percentage\n",
    "count = voting_data_pd[\"Candidate\"].value_counts('Khan')\n",
    "count*100"
   ]
  },
  {
   "cell_type": "code",
   "execution_count": 27,
   "metadata": {},
   "outputs": [
    {
     "name": "stdout",
     "output_type": "stream",
     "text": [
      "Khan wins! 2218231 votes\n"
     ]
    }
   ],
   "source": [
    "# -The winner of the election based on popular vote.\n",
    "winner = Totalcount.max()\n",
    "\n",
    "if winner == Khancount:\n",
    "    print(\"Khan wins! \" + str(winner) + \" votes\")\n",
    "if winner == Correycount:\n",
    "    print(\"Correy wins! \" + str(winner) + \" votes\")\n",
    "if winner == Licount: \n",
    "    print(\"Li wins! \" + str(winner) + \" votes\")\n",
    "if winner == OTooleycount: \n",
    "    print(\"O'Tooley wins! \" + str(winner) + \" votes\")"
   ]
  },
  {
   "cell_type": "code",
   "execution_count": 36,
   "metadata": {},
   "outputs": [],
   "source": [
    "#Now we need to export the file:\n",
    "VotingText = open(\"PollResults.txt\",\"w+\")\n",
    "VotingText.write(\"Final Analysis: \\r\\n\")\n",
    "VotingText.write(\"----------------------------\\r\\n\")\n",
    "VotingText.write(\"Total Number of votes: \"+ str(TotalVotes) + \"\\r\\n\")\n",
    "VotingText.write(\"Candidates: \" + str(uniqueCandidates)+ \"\\r\\n\")\n",
    "VotingText.write(\"---------------------\\r\\n\")\n",
    "VotingText.write(\"The total count is: \" + \"\\r\\n\" + str(Totalcount) + \"\\r\\n\")\n",
    "VotingText.write(\"----------------\\r\\n\")\n",
    "VotingText.write(\"Khan percent of votes: \" + str(Khanpercent)+\" %\" + \"\\r\\n\")\n",
    "VotingText.write(\"Correy percent of votes: \" + str(Correypercent)+\" %\" + \"\\r\\n\")\n",
    "VotingText.write(\"Li percent of votes: \" + str(Lipercent) + \" %\" + \"\\r\\n\")\n",
    "VotingText.write(\"O'Tooley percent of votes: \" + str(OTooleypercent) + \" %\" + \"\\r\\n\")\n",
    "VotingText.write(\"-------------------------------\\r\\n\")\n",
    "if winner == Khancount:\n",
    "    VotingText.write(\"Khan wins! \" + str(winner) + \" votes\" + \"\\r\\n\")\n",
    "if winner == Correycount:\n",
    "    VotingText.write(\"Correy wins! \" + str(winner) + \" votes\" + \"\\r\\n\")\n",
    "if winner == Licount: \n",
    "    VotingText.write(\"Li wins! \" + str(winner) + \" votes\" + \"\\r\\n\")\n",
    "if winner == OTooleycount: \n",
    "    VotingText.write(\"O'Tooley wins! \" + str(winner) + \" votes\" + \"\\r\\n\")\n",
    "VotingText.close()\n"
   ]
  },
  {
   "cell_type": "code",
   "execution_count": null,
   "metadata": {},
   "outputs": [],
   "source": []
  }
 ],
 "metadata": {
  "kernelspec": {
   "display_name": "Python 3",
   "language": "python",
   "name": "python3"
  },
  "language_info": {
   "codemirror_mode": {
    "name": "ipython",
    "version": 3
   },
   "file_extension": ".py",
   "mimetype": "text/x-python",
   "name": "python",
   "nbconvert_exporter": "python",
   "pygments_lexer": "ipython3",
   "version": "3.7.0"
  }
 },
 "nbformat": 4,
 "nbformat_minor": 2
}
