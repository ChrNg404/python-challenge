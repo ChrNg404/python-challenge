{
 "cells": [
  {
   "cell_type": "code",
   "execution_count": 19,
   "metadata": {},
   "outputs": [],
   "source": [
    "#Alright, let's program. Here are the things I need to do:\n",
    "import pandas as pd\n",
    "#Now we just need to save the path and put it to a variable\n",
    "\n",
    "budget_data = \"Resources/budget_data.csv\"\n",
    "\n",
    "#Now we read the data\n",
    "\n",
    "#budget_data_pd = pd.read_csv(budget_data)\n",
    "#mangled = budget_data_pd.copy()\n",
    "#mangled['row2'] = budget_data_pd['Profit/Losses'] * -2\n",
    "#mangled\n"
   ]
  },
  {
   "cell_type": "code",
   "execution_count": 20,
   "metadata": {},
   "outputs": [
    {
     "name": "stdout",
     "output_type": "stream",
     "text": [
      "       Date  Profit/Losses\n",
      "0  Jan-2010         867884\n",
      "1  Feb-2010         984655\n",
      "2  Mar-2010         322013\n",
      "3  Apr-2010         -69417\n",
      "4  May-2010         310503\n"
     ]
    }
   ],
   "source": [
    "#Let's call the head just to make sure it's the right file\n",
    "print(budget_data_pd.head())"
   ]
  },
  {
   "cell_type": "code",
   "execution_count": 21,
   "metadata": {},
   "outputs": [
    {
     "data": {
      "text/plain": [
       "86"
      ]
     },
     "execution_count": 21,
     "metadata": {},
     "output_type": "execute_result"
    }
   ],
   "source": [
    "#The total number of months included in the dataset\n",
    "#Ask for total months, or run individual calculation of each month\n",
    "#Wait I'm dumb, the question is the total number of months in the entire dataset. I should just run a length\n",
    "\n",
    "#count = budget_data_pd[\"Date\"].value_counts()\n",
    "#count\n",
    "#This is code for moments where I want to count the number of times each date appears. \n",
    "\n",
    "len(budget_data_pd)\n",
    "#This is code for the actual number of months in the entire dataset."
   ]
  },
  {
   "cell_type": "code",
   "execution_count": 22,
   "metadata": {},
   "outputs": [
    {
     "data": {
      "text/plain": [
       "38382578"
      ]
     },
     "execution_count": 22,
     "metadata": {},
     "output_type": "execute_result"
    }
   ],
   "source": [
    "#The total net amount of \"Profit/Losses\" over the entire period\n",
    "#Let's just use the sum total of the profit column. I think we can add the already negative numbers to to the positive ones and it'll work.\n",
    "\n",
    "total = budget_data_pd[\"Profit/Losses\"].sum()\n",
    "total"
   ]
  },
  {
   "cell_type": "code",
   "execution_count": 23,
   "metadata": {},
   "outputs": [
    {
     "name": "stdout",
     "output_type": "stream",
     "text": [
      "Date             Apr-2010\n",
      "Profit/Losses    -1196225\n",
      "dtype: object Date             Sep-2016\n",
      "Profit/Losses     1170593\n",
      "dtype: object\n"
     ]
    }
   ],
   "source": [
    "#The greatest increase in profits (date and amount) over the entire period\n",
    "#So let's just run a function for max and a function for min. Then print it.\n",
    "\n",
    "minval = budget_data_pd.min()\n",
    "maxval = budget_data_pd.max()\n",
    "print(minval, maxval)\n",
    "\n",
    "#The benefit is that we get the biggest loss and the biggest profit. However, the date is meaningless.\n",
    "#If we wanted to change that, we would probably sort the data from highest to lowest.\n",
    "\n",
    "\n",
    "\n"
   ]
  },
  {
   "cell_type": "code",
   "execution_count": null,
   "metadata": {},
   "outputs": [],
   "source": []
  }
 ],
 "metadata": {
  "kernelspec": {
   "display_name": "Python 3",
   "language": "python",
   "name": "python3"
  },
  "language_info": {
   "codemirror_mode": {
    "name": "ipython",
    "version": 3
   },
   "file_extension": ".py",
   "mimetype": "text/x-python",
   "name": "python",
   "nbconvert_exporter": "python",
   "pygments_lexer": "ipython3",
   "version": "3.7.0"
  }
 },
 "nbformat": 4,
 "nbformat_minor": 2
}
