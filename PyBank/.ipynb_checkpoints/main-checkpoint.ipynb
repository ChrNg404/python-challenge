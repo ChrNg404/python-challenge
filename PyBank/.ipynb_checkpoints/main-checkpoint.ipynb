{
 "cells": [
  {
   "cell_type": "code",
   "execution_count": 1,
   "metadata": {},
   "outputs": [],
   "source": [
    "#Alright, let's program. Here are the things I need to do:\n",
    "import pandas as pd\n",
    "#Now we just need to save the path and put it to a variable\n",
    "\n",
    "budget_data = \"Resources/budget_data.csv\"\n",
    "\n",
    "#Now we read the data\n",
    "\n",
    "budget_data_pd = pd.read_csv(budget_data)\n",
    "\n",
    "#mangled = budget_data_pd.copy()\n",
    "#mangled['row2'] = budget_data_pd['Profit/Losses'] * -2\n",
    "#mangled\n"
   ]
  },
  {
   "cell_type": "code",
   "execution_count": 2,
   "metadata": {},
   "outputs": [
    {
     "name": "stdout",
     "output_type": "stream",
     "text": [
      "       Date  Profit/Losses\n",
      "0  Jan-2010         867884\n",
      "1  Feb-2010         984655\n",
      "2  Mar-2010         322013\n",
      "3  Apr-2010         -69417\n",
      "4  May-2010         310503\n"
     ]
    },
    {
     "data": {
      "text/html": [
       "<div>\n",
       "<style scoped>\n",
       "    .dataframe tbody tr th:only-of-type {\n",
       "        vertical-align: middle;\n",
       "    }\n",
       "\n",
       "    .dataframe tbody tr th {\n",
       "        vertical-align: top;\n",
       "    }\n",
       "\n",
       "    .dataframe thead th {\n",
       "        text-align: right;\n",
       "    }\n",
       "</style>\n",
       "<table border=\"1\" class=\"dataframe\">\n",
       "  <thead>\n",
       "    <tr style=\"text-align: right;\">\n",
       "      <th></th>\n",
       "      <th>Date</th>\n",
       "      <th>Profit/Losses</th>\n",
       "    </tr>\n",
       "  </thead>\n",
       "  <tbody>\n",
       "    <tr>\n",
       "      <th>0</th>\n",
       "      <td>Jan-2010</td>\n",
       "      <td>867884</td>\n",
       "    </tr>\n",
       "    <tr>\n",
       "      <th>1</th>\n",
       "      <td>Feb-2010</td>\n",
       "      <td>984655</td>\n",
       "    </tr>\n",
       "    <tr>\n",
       "      <th>2</th>\n",
       "      <td>Mar-2010</td>\n",
       "      <td>322013</td>\n",
       "    </tr>\n",
       "    <tr>\n",
       "      <th>3</th>\n",
       "      <td>Apr-2010</td>\n",
       "      <td>-69417</td>\n",
       "    </tr>\n",
       "    <tr>\n",
       "      <th>4</th>\n",
       "      <td>May-2010</td>\n",
       "      <td>310503</td>\n",
       "    </tr>\n",
       "  </tbody>\n",
       "</table>\n",
       "</div>"
      ],
      "text/plain": [
       "       Date  Profit/Losses\n",
       "0  Jan-2010         867884\n",
       "1  Feb-2010         984655\n",
       "2  Mar-2010         322013\n",
       "3  Apr-2010         -69417\n",
       "4  May-2010         310503"
      ]
     },
     "execution_count": 2,
     "metadata": {},
     "output_type": "execute_result"
    }
   ],
   "source": [
    "#Let's call the head just to make sure it's the right file\n",
    "print(budget_data_pd.head())\n",
    "budget_data_pd.head()"
   ]
  },
  {
   "cell_type": "code",
   "execution_count": 3,
   "metadata": {},
   "outputs": [
    {
     "name": "stdout",
     "output_type": "stream",
     "text": [
      "The total number of months are: 86\n"
     ]
    }
   ],
   "source": [
    "#The total number of months included in the dataset\n",
    "#Ask for total months, or run individual calculation of each month\n",
    "#Wait I'm dumb, the question is the total number of months in the entire dataset. I should just run a length\n",
    "\n",
    "#count = budget_data_pd[\"Date\"].value_counts()\n",
    "#count\n",
    "#This is code for moments where I want to count the number of times each date appears. \n",
    "\n",
    "TotalMonths = len(budget_data_pd)\n",
    "#This is code for the actual number of months in the entire dataset.\n",
    "\n",
    "print(\"The total number of months are: \" + str(TotalMonths))"
   ]
  },
  {
   "cell_type": "code",
   "execution_count": 4,
   "metadata": {},
   "outputs": [
    {
     "name": "stdout",
     "output_type": "stream",
     "text": [
      "Your total net profits are: 38382578\n"
     ]
    }
   ],
   "source": [
    "#The total net amount of \"Profit/Losses\" over the entire period\n",
    "#Let's just use the sum total of the profit column. I think we can add the already negative numbers to to the positive ones and it'll work.\n",
    "\n",
    "total = budget_data_pd[\"Profit/Losses\"].sum()\n",
    "print(\"Your total net profits are: \" + str(total))"
   ]
  },
  {
   "cell_type": "code",
   "execution_count": 5,
   "metadata": {},
   "outputs": [
    {
     "name": "stdout",
     "output_type": "stream",
     "text": [
      "Your largest loss was: -1196225\n",
      "Your largest profit was: 1170593\n"
     ]
    }
   ],
   "source": [
    "#The greatest increase in profits (date and amount) over the entire period\n",
    "#So let's just run a function for max and a function for min. Then print it.\n",
    "\n",
    "minval = budget_data_pd[\"Profit/Losses\"].min()\n",
    "maxval = budget_data_pd[\"Profit/Losses\"].max()\n",
    "print(\"Your largest loss was: \" + str(minval))\n",
    "print(\"Your largest profit was: \" + str(maxval))\n",
    "\n",
    "#The benefit is that we get the biggest loss and the biggest profit. However, the date is meaningless.\n",
    "#If we wanted to change that, we would probably sort the data from highest to lowest.\n",
    "\n",
    "\n",
    "\n"
   ]
  },
  {
   "cell_type": "code",
   "execution_count": 36,
   "metadata": {},
   "outputs": [],
   "source": [
    "#Alright now we have to export it to to text file.\n",
    "# Don't pay attention to me! ->a = [(\"Your largest profit was: \" + str(maxval)), (\"Your largest loss was: \" + str(minval))]\n",
    "\n",
    "# So we're going to create a new text file that we can write in\n",
    "# Then we're going to write all of our print statements into it\n",
    "\n",
    "\n",
    "DataText = open(\"DataResults.txt\",\"w+\")\n",
    "DataText.write(\"Final Analysis: \\r\\n\")\n",
    "DataText.write(\"----------------------------\\r\\n\")\n",
    "DataText.write(\"The total number of months are: \" + str(TotalMonths) + \"\\r\\n\")\n",
    "DataText.write(\"Your total net profits are: $\" + str(total) + \"\\r\\n\")\n",
    "DataText.write(\"Your largest profit was: $\" + str(maxval) + \"\\r\\n\")\n",
    "DataText.write(\"Your largest loss was: $\" + str(minval) + \"\\r\\n\")\n",
    "DataText.close()\n",
    "\n",
    "    \n",
    "\n"
   ]
  },
  {
   "cell_type": "code",
   "execution_count": null,
   "metadata": {},
   "outputs": [],
   "source": []
  }
 ],
 "metadata": {
  "kernelspec": {
   "display_name": "Python 3",
   "language": "python",
   "name": "python3"
  },
  "language_info": {
   "codemirror_mode": {
    "name": "ipython",
    "version": 3
   },
   "file_extension": ".py",
   "mimetype": "text/x-python",
   "name": "python",
   "nbconvert_exporter": "python",
   "pygments_lexer": "ipython3",
   "version": "3.7.0"
  }
 },
 "nbformat": 4,
 "nbformat_minor": 2
}
